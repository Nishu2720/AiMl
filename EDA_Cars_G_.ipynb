{
  "cells": [
    {
      "cell_type": "markdown",
      "metadata": {
        "id": "view-in-github",
        "colab_type": "text"
      },
      "source": [
        "<a href=\"https://colab.research.google.com/github/Nishu2720/AiMl/blob/main/EDA_Cars_G_.ipynb\" target=\"_parent\"><img src=\"https://colab.research.google.com/assets/colab-badge.svg\" alt=\"Open In Colab\"/></a>"
      ]
    },
    {
      "cell_type": "markdown",
      "metadata": {
        "id": "8ksAFLJjo6u5"
      },
      "source": [
        "# Car Data Set\n",
        "\n",
        "- **Removing duplicates**\n",
        "- **Missing value treatment**\n",
        "- **Outlier Treatment**\n",
        "- **Scaling**\n",
        "- **Encoding Categorical variables**"
      ]
    },
    {
      "cell_type": "code",
      "source": [
        "from google.colab import drive\n",
        "drive.mount('/content/drive')"
      ],
      "metadata": {
        "colab": {
          "base_uri": "https://localhost:8080/",
          "height": 321
        },
        "id": "euao_8qco9Wv",
        "outputId": "fd134a60-83cf-45ef-ff94-d5a81f60583f"
      },
      "execution_count": null,
      "outputs": [
        {
          "output_type": "error",
          "ename": "MessageError",
          "evalue": "Error: credential propagation was unsuccessful",
          "traceback": [
            "\u001b[0;31m---------------------------------------------------------------------------\u001b[0m",
            "\u001b[0;31mMessageError\u001b[0m                              Traceback (most recent call last)",
            "\u001b[0;32m<ipython-input-9-d5df0069828e>\u001b[0m in \u001b[0;36m<cell line: 2>\u001b[0;34m()\u001b[0m\n\u001b[1;32m      1\u001b[0m \u001b[0;32mfrom\u001b[0m \u001b[0mgoogle\u001b[0m\u001b[0;34m.\u001b[0m\u001b[0mcolab\u001b[0m \u001b[0;32mimport\u001b[0m \u001b[0mdrive\u001b[0m\u001b[0;34m\u001b[0m\u001b[0;34m\u001b[0m\u001b[0m\n\u001b[0;32m----> 2\u001b[0;31m \u001b[0mdrive\u001b[0m\u001b[0;34m.\u001b[0m\u001b[0mmount\u001b[0m\u001b[0;34m(\u001b[0m\u001b[0;34m'/content/drive'\u001b[0m\u001b[0;34m)\u001b[0m\u001b[0;34m\u001b[0m\u001b[0;34m\u001b[0m\u001b[0m\n\u001b[0m",
            "\u001b[0;32m/usr/local/lib/python3.10/dist-packages/google/colab/drive.py\u001b[0m in \u001b[0;36mmount\u001b[0;34m(mountpoint, force_remount, timeout_ms, readonly)\u001b[0m\n\u001b[1;32m     98\u001b[0m \u001b[0;32mdef\u001b[0m \u001b[0mmount\u001b[0m\u001b[0;34m(\u001b[0m\u001b[0mmountpoint\u001b[0m\u001b[0;34m,\u001b[0m \u001b[0mforce_remount\u001b[0m\u001b[0;34m=\u001b[0m\u001b[0;32mFalse\u001b[0m\u001b[0;34m,\u001b[0m \u001b[0mtimeout_ms\u001b[0m\u001b[0;34m=\u001b[0m\u001b[0;36m120000\u001b[0m\u001b[0;34m,\u001b[0m \u001b[0mreadonly\u001b[0m\u001b[0;34m=\u001b[0m\u001b[0;32mFalse\u001b[0m\u001b[0;34m)\u001b[0m\u001b[0;34m:\u001b[0m\u001b[0;34m\u001b[0m\u001b[0;34m\u001b[0m\u001b[0m\n\u001b[1;32m     99\u001b[0m   \u001b[0;34m\"\"\"Mount your Google Drive at the specified mountpoint path.\"\"\"\u001b[0m\u001b[0;34m\u001b[0m\u001b[0;34m\u001b[0m\u001b[0m\n\u001b[0;32m--> 100\u001b[0;31m   return _mount(\n\u001b[0m\u001b[1;32m    101\u001b[0m       \u001b[0mmountpoint\u001b[0m\u001b[0;34m,\u001b[0m\u001b[0;34m\u001b[0m\u001b[0;34m\u001b[0m\u001b[0m\n\u001b[1;32m    102\u001b[0m       \u001b[0mforce_remount\u001b[0m\u001b[0;34m=\u001b[0m\u001b[0mforce_remount\u001b[0m\u001b[0;34m,\u001b[0m\u001b[0;34m\u001b[0m\u001b[0;34m\u001b[0m\u001b[0m\n",
            "\u001b[0;32m/usr/local/lib/python3.10/dist-packages/google/colab/drive.py\u001b[0m in \u001b[0;36m_mount\u001b[0;34m(mountpoint, force_remount, timeout_ms, ephemeral, readonly)\u001b[0m\n\u001b[1;32m    131\u001b[0m   )\n\u001b[1;32m    132\u001b[0m   \u001b[0;32mif\u001b[0m \u001b[0mephemeral\u001b[0m\u001b[0;34m:\u001b[0m\u001b[0;34m\u001b[0m\u001b[0;34m\u001b[0m\u001b[0m\n\u001b[0;32m--> 133\u001b[0;31m     _message.blocking_request(\n\u001b[0m\u001b[1;32m    134\u001b[0m         \u001b[0;34m'request_auth'\u001b[0m\u001b[0;34m,\u001b[0m\u001b[0;34m\u001b[0m\u001b[0;34m\u001b[0m\u001b[0m\n\u001b[1;32m    135\u001b[0m         \u001b[0mrequest\u001b[0m\u001b[0;34m=\u001b[0m\u001b[0;34m{\u001b[0m\u001b[0;34m'authType'\u001b[0m\u001b[0;34m:\u001b[0m \u001b[0;34m'dfs_ephemeral'\u001b[0m\u001b[0;34m}\u001b[0m\u001b[0;34m,\u001b[0m\u001b[0;34m\u001b[0m\u001b[0;34m\u001b[0m\u001b[0m\n",
            "\u001b[0;32m/usr/local/lib/python3.10/dist-packages/google/colab/_message.py\u001b[0m in \u001b[0;36mblocking_request\u001b[0;34m(request_type, request, timeout_sec, parent)\u001b[0m\n\u001b[1;32m    174\u001b[0m       \u001b[0mrequest_type\u001b[0m\u001b[0;34m,\u001b[0m \u001b[0mrequest\u001b[0m\u001b[0;34m,\u001b[0m \u001b[0mparent\u001b[0m\u001b[0;34m=\u001b[0m\u001b[0mparent\u001b[0m\u001b[0;34m,\u001b[0m \u001b[0mexpect_reply\u001b[0m\u001b[0;34m=\u001b[0m\u001b[0;32mTrue\u001b[0m\u001b[0;34m\u001b[0m\u001b[0;34m\u001b[0m\u001b[0m\n\u001b[1;32m    175\u001b[0m   )\n\u001b[0;32m--> 176\u001b[0;31m   \u001b[0;32mreturn\u001b[0m \u001b[0mread_reply_from_input\u001b[0m\u001b[0;34m(\u001b[0m\u001b[0mrequest_id\u001b[0m\u001b[0;34m,\u001b[0m \u001b[0mtimeout_sec\u001b[0m\u001b[0;34m)\u001b[0m\u001b[0;34m\u001b[0m\u001b[0;34m\u001b[0m\u001b[0m\n\u001b[0m",
            "\u001b[0;32m/usr/local/lib/python3.10/dist-packages/google/colab/_message.py\u001b[0m in \u001b[0;36mread_reply_from_input\u001b[0;34m(message_id, timeout_sec)\u001b[0m\n\u001b[1;32m    101\u001b[0m     ):\n\u001b[1;32m    102\u001b[0m       \u001b[0;32mif\u001b[0m \u001b[0;34m'error'\u001b[0m \u001b[0;32min\u001b[0m \u001b[0mreply\u001b[0m\u001b[0;34m:\u001b[0m\u001b[0;34m\u001b[0m\u001b[0;34m\u001b[0m\u001b[0m\n\u001b[0;32m--> 103\u001b[0;31m         \u001b[0;32mraise\u001b[0m \u001b[0mMessageError\u001b[0m\u001b[0;34m(\u001b[0m\u001b[0mreply\u001b[0m\u001b[0;34m[\u001b[0m\u001b[0;34m'error'\u001b[0m\u001b[0;34m]\u001b[0m\u001b[0;34m)\u001b[0m\u001b[0;34m\u001b[0m\u001b[0;34m\u001b[0m\u001b[0m\n\u001b[0m\u001b[1;32m    104\u001b[0m       \u001b[0;32mreturn\u001b[0m \u001b[0mreply\u001b[0m\u001b[0;34m.\u001b[0m\u001b[0mget\u001b[0m\u001b[0;34m(\u001b[0m\u001b[0;34m'data'\u001b[0m\u001b[0;34m,\u001b[0m \u001b[0;32mNone\u001b[0m\u001b[0;34m)\u001b[0m\u001b[0;34m\u001b[0m\u001b[0;34m\u001b[0m\u001b[0m\n\u001b[1;32m    105\u001b[0m \u001b[0;34m\u001b[0m\u001b[0m\n",
            "\u001b[0;31mMessageError\u001b[0m: Error: credential propagation was unsuccessful"
          ]
        }
      ]
    },
    {
      "cell_type": "code",
      "execution_count": 42,
      "metadata": {
        "ExecuteTime": {
          "end_time": "2020-04-08T17:42:55.107577Z",
          "start_time": "2020-04-08T17:42:55.102597Z"
        },
        "id": "DHnjY4gGo6u6"
      },
      "outputs": [],
      "source": [
        "import pandas as pd\n",
        "import numpy as np\n",
        "import matplotlib.pyplot as plt\n",
        "# import seaborn as sns\n",
        "%matplotlib inline"
      ]
    },
    {
      "cell_type": "code",
      "execution_count": null,
      "metadata": {
        "ExecuteTime": {
          "end_time": "2020-04-08T17:42:58.631162Z",
          "start_time": "2020-04-08T17:42:57.530483Z"
        },
        "id": "y_gEw2lGo6u6"
      },
      "outputs": [],
      "source": [
        "df=pd.read_excel('EDA Cars-1.xlsx')"
      ]
    },
    {
      "cell_type": "code",
      "execution_count": null,
      "metadata": {
        "ExecuteTime": {
          "end_time": "2020-04-08T17:42:59.938189Z",
          "start_time": "2020-04-08T17:42:59.822520Z"
        },
        "id": "gWoGIVvYo6u6"
      },
      "outputs": [],
      "source": [
        "df.head()"
      ]
    },
    {
      "cell_type": "markdown",
      "metadata": {
        "id": "hMN8XRmTo6u7"
      },
      "source": [
        "**head function will tell you the top records in the data set. By default python shows you only top 5 records.**"
      ]
    },
    {
      "cell_type": "code",
      "execution_count": null,
      "metadata": {
        "ExecuteTime": {
          "end_time": "2020-04-08T17:43:01.021806Z",
          "start_time": "2020-04-08T17:43:01.017785Z"
        },
        "id": "cTNz574Vo6u7"
      },
      "outputs": [],
      "source": [
        "df.shape"
      ]
    },
    {
      "cell_type": "markdown",
      "metadata": {
        "id": "mLsCI-GMo6u7"
      },
      "source": [
        "**Shape attribute tells us number of observations and variables we have in the data set. It is used to check the dimension of data. The cars data set has 303 observations and 13 variables in the data set.**"
      ]
    },
    {
      "cell_type": "code",
      "execution_count": null,
      "metadata": {
        "ExecuteTime": {
          "end_time": "2020-04-08T17:43:02.056400Z",
          "start_time": "2020-04-08T17:43:02.044470Z"
        },
        "id": "lqFWdPGLo6u7"
      },
      "outputs": [],
      "source": [
        "df.info()"
      ]
    },
    {
      "cell_type": "code",
      "source": [
        "df.tail(50)\n"
      ],
      "metadata": {
        "id": "sVnxEx3Qy2w_"
      },
      "execution_count": null,
      "outputs": []
    },
    {
      "cell_type": "code",
      "source": [
        "df.head(50)\n"
      ],
      "metadata": {
        "id": "8rZdHK_by_-l"
      },
      "execution_count": null,
      "outputs": []
    },
    {
      "cell_type": "code",
      "source": [
        "df[\"POSTAL CODE\"]= pd.Categorical(df['POSTAL CODE'])"
      ],
      "metadata": {
        "id": "BU24lytT0quL"
      },
      "execution_count": null,
      "outputs": []
    },
    {
      "cell_type": "code",
      "execution_count": null,
      "metadata": {
        "id": "ZIeNmEBjo6u7"
      },
      "outputs": [],
      "source": [
        "df[\"POSTAL CODE\"]= pd.Categorical(df['POSTAL CODE']) # Converting Postal Code into Category"
      ]
    },
    {
      "cell_type": "code",
      "execution_count": null,
      "metadata": {
        "id": "xywzWOwGo6u7"
      },
      "outputs": [],
      "source": [
        "df.info()"
      ]
    },
    {
      "cell_type": "code",
      "execution_count": null,
      "metadata": {
        "id": "dGBdVt3Do6u8"
      },
      "outputs": [],
      "source": [
        "df.head()"
      ]
    },
    {
      "cell_type": "markdown",
      "metadata": {
        "id": "jWNyvHO6o6u8"
      },
      "source": [
        "**info() is used to check the Information about the data and the datatypes of each respective attributes.**"
      ]
    },
    {
      "cell_type": "code",
      "execution_count": null,
      "metadata": {
        "ExecuteTime": {
          "end_time": "2020-04-08T17:43:03.102441Z",
          "start_time": "2020-04-08T17:43:03.078505Z"
        },
        "id": "HkY7fw6do6u8"
      },
      "outputs": [],
      "source": [
        "df.describe()"
      ]
    },
    {
      "cell_type": "markdown",
      "metadata": {
        "id": "LFqReDNSo6u8"
      },
      "source": [
        "**The describe method will help to see how data has been spread for the numerical values. We can clearly see the minimum value, mean values, different percentile values and maximum values.**"
      ]
    },
    {
      "cell_type": "markdown",
      "metadata": {
        "id": "QoH3uG3Go6u8"
      },
      "source": [
        "# Check for Duplicate records"
      ]
    },
    {
      "cell_type": "code",
      "execution_count": null,
      "metadata": {
        "ExecuteTime": {
          "end_time": "2020-04-08T17:43:04.573449Z",
          "start_time": "2020-04-08T17:43:04.551522Z"
        },
        "id": "PVfmu2uxo6u8"
      },
      "outputs": [],
      "source": [
        "dups = df.duplicated()\n",
        "print('Number of duplicate rows = %d' % (dups.sum()))\n",
        "\n",
        "df[dups]"
      ]
    },
    {
      "cell_type": "markdown",
      "metadata": {
        "id": "uOy32p1xo6u8"
      },
      "source": [
        "**Since we have 14 duplicate records in the data, we will remove this from the data set so that we get only distinct records.**"
      ]
    },
    {
      "cell_type": "code",
      "execution_count": null,
      "metadata": {
        "ExecuteTime": {
          "end_time": "2020-04-08T17:43:05.593735Z",
          "start_time": "2020-04-08T17:43:05.581812Z"
        },
        "id": "4xbPsM6Io6u8"
      },
      "outputs": [],
      "source": [
        "df.drop_duplicates(inplace=True)"
      ]
    },
    {
      "cell_type": "markdown",
      "metadata": {
        "id": "ZvlQDJJao6u8"
      },
      "source": [
        "**Post removing the duplicate, we will check whether the duplicates has been removed from the data set or not.**"
      ]
    },
    {
      "cell_type": "code",
      "execution_count": null,
      "metadata": {
        "ExecuteTime": {
          "end_time": "2020-04-08T17:43:06.553875Z",
          "start_time": "2020-04-08T17:43:06.537920Z"
        },
        "id": "cVnkCWxxo6u8"
      },
      "outputs": [],
      "source": [
        "# Check for duplicate data\n",
        "\n",
        "dups = df.duplicated()\n",
        "print('Number of duplicate rows = %d' % (dups.sum()))\n",
        "\n",
        "df[dups]"
      ]
    },
    {
      "cell_type": "code",
      "source": [],
      "metadata": {
        "id": "EB4hTn3wXm_l"
      },
      "execution_count": null,
      "outputs": []
    },
    {
      "cell_type": "code",
      "source": [
        "df.shap"
      ],
      "metadata": {
        "id": "pEaPCL35Xncs"
      },
      "execution_count": null,
      "outputs": []
    },
    {
      "cell_type": "markdown",
      "metadata": {
        "id": "yE3H37aKo6u9"
      },
      "source": [
        "**Now, we can  clearly see that there are no duplicate records in the data set. We can also quickly confirm the number of records by using the shape attribute as those 14 records should be removed from the original data. Initially it had 303 records now it should have 289**"
      ]
    },
    {
      "cell_type": "code",
      "execution_count": null,
      "metadata": {
        "ExecuteTime": {
          "end_time": "2020-04-08T17:43:07.511247Z",
          "start_time": "2020-04-08T17:43:07.507265Z"
        },
        "id": "bJC9HTxOo6u9"
      },
      "outputs": [],
      "source": [
        "df.shape"
      ]
    },
    {
      "cell_type": "code",
      "execution_count": null,
      "metadata": {
        "id": "c7ufgkcSo6u9"
      },
      "outputs": [],
      "source": [
        "df.drop('INDEX', axis=1, inplace=True)"
      ]
    },
    {
      "cell_type": "markdown",
      "metadata": {
        "id": "vc84R_Wro6u9"
      },
      "source": [
        "# Outlier Treatment\n",
        "\n",
        "**To check for outliers, we will be plotting the box plots.**"
      ]
    },
    {
      "cell_type": "code",
      "execution_count": null,
      "metadata": {
        "ExecuteTime": {
          "end_time": "2020-04-08T17:43:09.015194Z",
          "start_time": "2020-04-08T17:43:08.445798Z"
        },
        "id": "UfpZkBN2o6u9"
      },
      "outputs": [],
      "source": [
        "df.boxplot(column=['INCOME', 'TRAVEL TIME'])\n",
        "plt.show()\n"
      ]
    },
    {
      "cell_type": "code",
      "execution_count": null,
      "metadata": {
        "ExecuteTime": {
          "end_time": "2020-04-08T17:43:09.220949Z",
          "start_time": "2020-04-08T17:43:09.126393Z"
        },
        "scrolled": true,
        "id": "ihiwCPGBo6u9"
      },
      "outputs": [],
      "source": [
        "df.boxplot(column=['TRAVEL TIME'])\n",
        "plt.show()"
      ]
    },
    {
      "cell_type": "code",
      "execution_count": null,
      "metadata": {
        "ExecuteTime": {
          "end_time": "2020-04-08T17:43:09.619602Z",
          "start_time": "2020-04-08T17:43:09.518443Z"
        },
        "id": "fj0gM8qYo6u9"
      },
      "outputs": [],
      "source": [
        "df.boxplot(column=['CAR AGE'])\n",
        "plt.show()"
      ]
    },
    {
      "cell_type": "code",
      "execution_count": null,
      "metadata": {
        "ExecuteTime": {
          "end_time": "2020-04-08T17:43:10.152434Z",
          "start_time": "2020-04-08T17:43:10.052701Z"
        },
        "id": "D-aAqzoCo6u9"
      },
      "outputs": [],
      "source": [
        "df.boxplot(column=['MILES CLOCKED'])\n",
        "plt.show()"
      ]
    },
    {
      "cell_type": "markdown",
      "metadata": {
        "id": "CjtgZ6Spo6u9"
      },
      "source": [
        "**Looking at the box plot, it seems that the three variables INCOME, MILES CLOCKED and TRAVEL TIME have outlier present in the variables.**\n",
        "\n",
        "**These outliers value needs to be teated and there are several ways of treating them:**\n",
        "    \n",
        "- **Drop the outlier value**\n",
        "- **Replace the outlier value using the IQR**\n",
        "\n"
      ]
    },
    {
      "cell_type": "markdown",
      "metadata": {
        "id": "8fKpakQbo6u9"
      },
      "source": [
        "**Created a user definded function for finding the lower and upper range for a variable so that outlier can be treated.**"
      ]
    },
    {
      "cell_type": "code",
      "execution_count": null,
      "metadata": {
        "ExecuteTime": {
          "end_time": "2020-04-08T17:43:12.135431Z",
          "start_time": "2020-04-08T17:43:12.127452Z"
        },
        "id": "MKKoKZz5o6u9"
      },
      "outputs": [],
      "source": [
        "def remove_outlier(col):\n",
        "    sorted(col)\n",
        "    Q1,Q3=col.quantile([0.25,0.75])\n",
        "    IQR=Q3-Q1\n",
        "    lower_range= Q1-(1.5 * IQR)\n",
        "    upper_range= Q3+(1.5 * IQR)\n",
        "    return lower_range, upper_range"
      ]
    },
    {
      "cell_type": "code",
      "execution_count": null,
      "metadata": {
        "ExecuteTime": {
          "end_time": "2020-04-08T17:43:12.650851Z",
          "start_time": "2020-04-08T17:43:12.626880Z"
        },
        "id": "fiv98GzEo6u-"
      },
      "outputs": [],
      "source": [
        "lrincome,urincome=remove_outlier(df['INCOME'])\n",
        "df['INCOME']=np.where(df['INCOME']>urincome,urincome,df['INCOME'])\n",
        "df['INCOME']=np.where(df['INCOME']<lrincome,lrincome,df['INCOME'])\n",
        "\n",
        "\n",
        "lrtravel,urtravel=remove_outlier(df['TRAVEL TIME'])\n",
        "df['TRAVEL TIME']=np.where(df['TRAVEL TIME']>urtravel,urtravel,df['TRAVEL TIME'])\n",
        "df['TRAVEL TIME']=np.where(df['TRAVEL TIME']<lrtravel,lrtravel,df['TRAVEL TIME'])\n",
        "\n",
        "lrmiles,urmiles=remove_outlier(df['MILES CLOCKED'])\n",
        "df['MILES CLOCKED']=np.where(df['MILES CLOCKED']>urmiles,urmiles,df['MILES CLOCKED'])\n",
        "df['MILES CLOCKED']=np.where(df['MILES CLOCKED']<lrmiles,lrmiles,df['MILES CLOCKED'])\n",
        "\n",
        "df.shape"
      ]
    },
    {
      "cell_type": "markdown",
      "metadata": {
        "id": "CsHECfeTo6u-"
      },
      "source": [
        "##  Make Boxplots after Outlier Treatment"
      ]
    },
    {
      "cell_type": "code",
      "execution_count": null,
      "metadata": {
        "ExecuteTime": {
          "end_time": "2020-04-08T17:43:13.270315Z",
          "start_time": "2020-04-08T17:43:13.165558Z"
        },
        "id": "K1BDXrmJo6u-"
      },
      "outputs": [],
      "source": [
        "df.boxplot(column=['INCOME'])\n",
        "plt.show()"
      ]
    },
    {
      "cell_type": "code",
      "execution_count": null,
      "metadata": {
        "ExecuteTime": {
          "end_time": "2020-04-08T17:43:13.775304Z",
          "start_time": "2020-04-08T17:43:13.680593Z"
        },
        "id": "EePgE-G2o6u-"
      },
      "outputs": [],
      "source": [
        "df.boxplot(column=['TRAVEL TIME'])\n",
        "plt.show()"
      ]
    },
    {
      "cell_type": "code",
      "execution_count": null,
      "metadata": {
        "ExecuteTime": {
          "end_time": "2020-04-08T17:43:14.291660Z",
          "start_time": "2020-04-08T17:43:14.188935Z"
        },
        "id": "x-AMD5nTo6u-"
      },
      "outputs": [],
      "source": [
        "df.boxplot(column=['MILES CLOCKED'])\n",
        "plt.show()"
      ]
    },
    {
      "cell_type": "markdown",
      "metadata": {
        "id": "vLBZQef4o6u-"
      },
      "source": [
        "**If you look at the box plots above,post treating the outlier there are no outliers in all these columns.**"
      ]
    },
    {
      "cell_type": "markdown",
      "metadata": {
        "id": "ZvMzkMiVo6u-"
      },
      "source": [
        "# Check for missing value"
      ]
    },
    {
      "cell_type": "code",
      "execution_count": null,
      "metadata": {
        "id": "BgT0muLso6u-"
      },
      "outputs": [],
      "source": [
        "df.isnull().sum()"
      ]
    },
    {
      "cell_type": "markdown",
      "metadata": {
        "id": "RwIINNRXo6vD"
      },
      "source": [
        "**Replacing NULL values in Numerical Columns using Median**"
      ]
    },
    {
      "cell_type": "code",
      "execution_count": null,
      "metadata": {
        "ExecuteTime": {
          "end_time": "2020-04-08T17:43:18.406760Z",
          "start_time": "2020-04-08T17:43:18.397786Z"
        },
        "id": "hy862AwIo6vD"
      },
      "outputs": [],
      "source": [
        "median1=df[\"INCOME\"].median()\n",
        "median2=df[\"TRAVEL TIME\"].median()\n",
        "median3=df[\"MILES CLOCKED\"].median()\n",
        "median4=df[\"CAR AGE\"].median()"
      ]
    },
    {
      "cell_type": "code",
      "execution_count": null,
      "metadata": {
        "id": "fzc3vhYMo6vD"
      },
      "outputs": [],
      "source": [
        "df[\"INCOME\"].replace(np.nan,median1,inplace=True)\n",
        "df[\"TRAVEL TIME\"].replace(np.nan,median2,inplace=True)\n",
        "df[\"MILES CLOCKED\"].replace(np.nan,median3,inplace=True)\n",
        "df[\"CAR AGE\"].replace(np.nan,median4,inplace=True)"
      ]
    },
    {
      "cell_type": "markdown",
      "metadata": {
        "id": "WBdvWp15o6vD"
      },
      "source": [
        "**Replacing NULL values in Categorical Columns using Mode**"
      ]
    },
    {
      "cell_type": "code",
      "execution_count": null,
      "metadata": {
        "ExecuteTime": {
          "end_time": "2020-04-08T17:43:19.472345Z",
          "start_time": "2020-04-08T17:43:19.458383Z"
        },
        "id": "qRgK0gNMo6vD"
      },
      "outputs": [],
      "source": [
        "mode1=df[\"SEX\"].mode().values[0]\n",
        "mode2=df[\"MARITAL STATUS\"].mode().values[0]\n",
        "mode3=df[\"EDUCATION\"].mode().values[0]\n",
        "mode4=df[\"JOB\"].mode().values[0]\n",
        "mode5=df[\"USE\"].mode().values[0]\n",
        "mode6=df['CITY'].mode().values[0]\n",
        "mode7=df[\"CAR TYPE\"].mode().values[0]\n",
        "mode8=df[\"POSTAL CODE\"].mode().values[0]\n",
        "\n",
        "df[\"SEX\"]=df[\"SEX\"].replace(np.nan,mode1)\n",
        "df[\"MARITAL STATUS\"]= df[\"MARITAL STATUS\"].replace(np.nan,mode2)\n",
        "df[\"EDUCATION\"]=df[\"EDUCATION\"].replace(np.nan,mode3)\n",
        "df[\"JOB\"]=df[\"JOB\"].replace(np.nan,mode4)\n",
        "df[\"USE\"]=df[\"USE\"].replace(np.nan,mode5)\n",
        "df[\"CAR TYPE\"]=df[\"CAR TYPE\"].replace(np.nan,mode7)\n",
        "df['CITY']=df['CITY'].replace(np.nan,mode6)\n",
        "df['POSTAL CODE']=df['POSTAL CODE'].replace(np.nan,mode8)"
      ]
    },
    {
      "cell_type": "code",
      "execution_count": null,
      "metadata": {
        "id": "ik4gjPITo6vD"
      },
      "outputs": [],
      "source": [
        "sns.histplot(df.INCOME,bins=10);"
      ]
    },
    {
      "cell_type": "code",
      "execution_count": null,
      "metadata": {
        "id": "AoZqJoL5o6vD"
      },
      "outputs": [],
      "source": [
        "sns.countplot(x=df[\"EDUCATION\"]);"
      ]
    },
    {
      "cell_type": "code",
      "execution_count": null,
      "metadata": {
        "ExecuteTime": {
          "end_time": "2020-04-08T17:43:24.615385Z",
          "start_time": "2020-04-08T17:43:24.604411Z"
        },
        "id": "-1p5YsHUo6vD"
      },
      "outputs": [],
      "source": [
        "df.corr()"
      ]
    },
    {
      "cell_type": "markdown",
      "metadata": {
        "id": "mw78G-0ko6vD"
      },
      "source": [
        "## Correlation Heatmap"
      ]
    },
    {
      "cell_type": "code",
      "execution_count": null,
      "metadata": {
        "ExecuteTime": {
          "end_time": "2020-04-08T17:43:29.310359Z",
          "start_time": "2020-04-08T17:43:28.805698Z"
        },
        "id": "e64Qoluho6vE"
      },
      "outputs": [],
      "source": [
        "sns.heatmap(df.corr(), annot=True, fmt='.2f')\n",
        "plt.show()"
      ]
    },
    {
      "cell_type": "code",
      "execution_count": null,
      "metadata": {
        "ExecuteTime": {
          "end_time": "2020-04-08T17:43:31.510840Z",
          "start_time": "2020-04-08T17:43:30.620936Z"
        },
        "id": "jtDvS8Jco6vE"
      },
      "outputs": [],
      "source": [
        "#Scales the data. Essentially returns the z-scores of every attribute\n",
        "from sklearn.preprocessing import StandardScaler\n",
        "std_scale = StandardScaler()\n",
        "std_scale"
      ]
    },
    {
      "cell_type": "code",
      "execution_count": null,
      "metadata": {
        "ExecuteTime": {
          "end_time": "2020-04-08T17:43:31.653530Z",
          "start_time": "2020-04-08T17:43:31.637491Z"
        },
        "id": "OmHjKDJso6vE"
      },
      "outputs": [],
      "source": [
        "df['INCOME'] = std_scale.fit_transform(df[['INCOME']])\n",
        "df['TRAVEL TIME'] = std_scale.fit_transform(df[['TRAVEL TIME']])\n",
        "df['CAR AGE'] = std_scale.fit_transform(df[['CAR AGE']])\n",
        "df['MILES CLOCKED']= std_scale.fit_transform(df[['MILES CLOCKED']])"
      ]
    },
    {
      "cell_type": "code",
      "execution_count": null,
      "metadata": {
        "ExecuteTime": {
          "end_time": "2020-04-08T17:43:31.825651Z",
          "start_time": "2020-04-08T17:43:31.769224Z"
        },
        "id": "uBdH4u6no6vE"
      },
      "outputs": [],
      "source": [
        "df.head()"
      ]
    },
    {
      "cell_type": "markdown",
      "metadata": {
        "id": "ftP8O9HFo6vE"
      },
      "source": [
        "# ENCODING\n",
        "\n",
        "**One-Hot-Encoding is used to create dummy variables to replace the categories in a categorical variable into features of each category and represent it using 1 or 0 based on the presence or absence of the categorical value in the record.**\n",
        "\n",
        "**This is required to do since the machine learning algorithms only works on the numerical data. That is why there is a need to convert the categorical column into numerical one.**\n",
        "\n",
        "**get_dummies is the method which creates dummy variable for each categorical variable.**"
      ]
    },
    {
      "cell_type": "code",
      "execution_count": null,
      "metadata": {
        "ExecuteTime": {
          "end_time": "2020-04-08T17:43:33.386403Z",
          "start_time": "2020-04-08T17:43:33.363466Z"
        },
        "id": "Br8eE7W7o6vE"
      },
      "outputs": [],
      "source": [
        "dummies=pd.get_dummies(df[[\"MARITAL STATUS\", \"SEX\",\"EDUCATION\",\"JOB\",\"USE\",\"CAR TYPE\",\"CITY\"]], columns=[\"MARITAL STATUS\", \"SEX\",\"EDUCATION\",\"JOB\",\"USE\",\"CAR TYPE\",\"CITY\"], prefix=[\"married\", \"sex\",\"Education\",\"Job\",\"Use\",\"cartype\",\"city\"],drop_first=True).head()\n",
        "dummies.head(10)"
      ]
    },
    {
      "cell_type": "code",
      "execution_count": null,
      "metadata": {
        "ExecuteTime": {
          "end_time": "2020-04-08T17:43:33.906006Z",
          "start_time": "2020-04-08T17:43:33.892044Z"
        },
        "id": "7NRahwjIo6vE"
      },
      "outputs": [],
      "source": [
        "columns=[\"MARITAL STATUS\", \"SEX\",\"EDUCATION\",\"JOB\",\"USE\",\"CAR TYPE\",\"CITY\"]\n",
        "df = pd.concat([df, dummies], axis=1)\n",
        "df.drop(columns, axis = 1, inplace=True)"
      ]
    },
    {
      "cell_type": "code",
      "execution_count": null,
      "metadata": {
        "ExecuteTime": {
          "end_time": "2020-04-08T17:43:34.404094Z",
          "start_time": "2020-04-08T17:43:34.374215Z"
        },
        "id": "MwwaF1Mlo6vE"
      },
      "outputs": [],
      "source": [
        "df.head()"
      ]
    }
  ],
  "metadata": {
    "kernelspec": {
      "display_name": "Python 3",
      "language": "python",
      "name": "python3"
    },
    "language_info": {
      "codemirror_mode": {
        "name": "ipython",
        "version": 3
      },
      "file_extension": ".py",
      "mimetype": "text/x-python",
      "name": "python",
      "nbconvert_exporter": "python",
      "pygments_lexer": "ipython3",
      "version": "3.8.8"
    },
    "toc": {
      "base_numbering": 1,
      "nav_menu": {},
      "number_sections": true,
      "sideBar": true,
      "skip_h1_title": false,
      "title_cell": "Table of Contents",
      "title_sidebar": "Contents",
      "toc_cell": false,
      "toc_position": {},
      "toc_section_display": true,
      "toc_window_display": false
    },
    "varInspector": {
      "cols": {
        "lenName": 16,
        "lenType": 16,
        "lenVar": 40
      },
      "kernels_config": {
        "python": {
          "delete_cmd_postfix": "",
          "delete_cmd_prefix": "del ",
          "library": "var_list.py",
          "varRefreshCmd": "print(var_dic_list())"
        },
        "r": {
          "delete_cmd_postfix": ") ",
          "delete_cmd_prefix": "rm(",
          "library": "var_list.r",
          "varRefreshCmd": "cat(var_dic_list()) "
        }
      },
      "types_to_exclude": [
        "module",
        "function",
        "builtin_function_or_method",
        "instance",
        "_Feature"
      ],
      "window_display": false
    },
    "colab": {
      "provenance": [],
      "include_colab_link": true
    }
  },
  "nbformat": 4,
  "nbformat_minor": 0
}